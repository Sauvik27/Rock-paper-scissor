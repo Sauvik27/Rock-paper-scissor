{
  "nbformat": 4,
  "nbformat_minor": 0,
  "metadata": {
    "colab": {
      "name": "NumPy Tutorial for DS & ML.ipynb",
      "provenance": [],
      "collapsed_sections": [],
      "authorship_tag": "ABX9TyNXJ8p90Kj4pr7tW3FflUwm",
      "include_colab_link": true
    },
    "kernelspec": {
      "name": "python3",
      "display_name": "Python 3"
    }
  },
  "cells": [
    {
      "cell_type": "markdown",
      "metadata": {
        "id": "view-in-github",
        "colab_type": "text"
      },
      "source": [
        "<a href=\"https://colab.research.google.com/github/Sauvik27/RockPaperScissor/blob/master/NumPy_Tutorial_for_DS_%26_ML.ipynb\" target=\"_parent\"><img src=\"https://colab.research.google.com/assets/colab-badge.svg\" alt=\"Open In Colab\"/></a>"
      ]
    },
    {
      "cell_type": "code",
      "metadata": {
        "id": "UaIInLIJNGod",
        "colab_type": "code",
        "colab": {}
      },
      "source": [
        "import numpy as np"
      ],
      "execution_count": 0,
      "outputs": []
    },
    {
      "cell_type": "code",
      "metadata": {
        "id": "HojCovn5NX-w",
        "colab_type": "code",
        "colab": {}
      },
      "source": [
        "myarr = np.array([[3,6,32,7]])"
      ],
      "execution_count": 0,
      "outputs": []
    },
    {
      "cell_type": "code",
      "metadata": {
        "id": "TH3DZJPaPLrP",
        "colab_type": "code",
        "outputId": "a7eead8e-63bd-4062-c120-3c8d5380ff8b",
        "colab": {
          "base_uri": "https://localhost:8080/",
          "height": 34
        }
      },
      "source": [
        "myarr[0,1]"
      ],
      "execution_count": 3,
      "outputs": [
        {
          "output_type": "execute_result",
          "data": {
            "text/plain": [
              "6"
            ]
          },
          "metadata": {
            "tags": []
          },
          "execution_count": 3
        }
      ]
    },
    {
      "cell_type": "code",
      "metadata": {
        "id": "EOlhz1MkPYXI",
        "colab_type": "code",
        "outputId": "3856e3f4-c99b-4756-d664-33f84e797f24",
        "colab": {
          "base_uri": "https://localhost:8080/",
          "height": 34
        }
      },
      "source": [
        "myarr.shape"
      ],
      "execution_count": 4,
      "outputs": [
        {
          "output_type": "execute_result",
          "data": {
            "text/plain": [
              "(1, 4)"
            ]
          },
          "metadata": {
            "tags": []
          },
          "execution_count": 4
        }
      ]
    },
    {
      "cell_type": "code",
      "metadata": {
        "id": "ZPvEq2D9PbAN",
        "colab_type": "code",
        "outputId": "ef7240a1-0de9-4f24-c8da-ab6c3bf9f3cb",
        "colab": {
          "base_uri": "https://localhost:8080/",
          "height": 34
        }
      },
      "source": [
        "myarr.dtype"
      ],
      "execution_count": 5,
      "outputs": [
        {
          "output_type": "execute_result",
          "data": {
            "text/plain": [
              "dtype('int64')"
            ]
          },
          "metadata": {
            "tags": []
          },
          "execution_count": 5
        }
      ]
    },
    {
      "cell_type": "code",
      "metadata": {
        "id": "9gD-xM5sP6aa",
        "colab_type": "code",
        "colab": {}
      },
      "source": [
        "myarr[0,1]=45"
      ],
      "execution_count": 0,
      "outputs": []
    },
    {
      "cell_type": "code",
      "metadata": {
        "id": "JOdEQp3CP_wK",
        "colab_type": "code",
        "outputId": "53841bac-421c-460b-aecf-6ea06ce639e5",
        "colab": {
          "base_uri": "https://localhost:8080/",
          "height": 34
        }
      },
      "source": [
        "myarr"
      ],
      "execution_count": 7,
      "outputs": [
        {
          "output_type": "execute_result",
          "data": {
            "text/plain": [
              "array([[ 3, 45, 32,  7]])"
            ]
          },
          "metadata": {
            "tags": []
          },
          "execution_count": 7
        }
      ]
    },
    {
      "cell_type": "markdown",
      "metadata": {
        "id": "0MHLBKqsS3pi",
        "colab_type": "text"
      },
      "source": [
        "**Array Creation**"
      ]
    },
    {
      "cell_type": "markdown",
      "metadata": {
        "id": "pH5i8RAMSuCH",
        "colab_type": "text"
      },
      "source": [
        "**Conversion from other Python structures**"
      ]
    },
    {
      "cell_type": "code",
      "metadata": {
        "id": "QM1NfrSzQB8o",
        "colab_type": "code",
        "colab": {}
      },
      "source": [
        "listarray=np.array([[1,2,3],[5,8,5],[8,9,3]])"
      ],
      "execution_count": 0,
      "outputs": []
    },
    {
      "cell_type": "code",
      "metadata": {
        "id": "35Jf9QC0UVrg",
        "colab_type": "code",
        "outputId": "1b3ca625-b5c6-48f7-cdfc-fd6e1ffa915a",
        "colab": {
          "base_uri": "https://localhost:8080/",
          "height": 68
        }
      },
      "source": [
        "listarray"
      ],
      "execution_count": 9,
      "outputs": [
        {
          "output_type": "execute_result",
          "data": {
            "text/plain": [
              "array([[1, 2, 3],\n",
              "       [5, 8, 5],\n",
              "       [8, 9, 3]])"
            ]
          },
          "metadata": {
            "tags": []
          },
          "execution_count": 9
        }
      ]
    },
    {
      "cell_type": "code",
      "metadata": {
        "id": "MN0bbHPQUXzb",
        "colab_type": "code",
        "outputId": "d8c13b1d-b41e-4d26-a759-e9467198ac78",
        "colab": {
          "base_uri": "https://localhost:8080/",
          "height": 34
        }
      },
      "source": [
        "listarray.dtype"
      ],
      "execution_count": 10,
      "outputs": [
        {
          "output_type": "execute_result",
          "data": {
            "text/plain": [
              "dtype('int64')"
            ]
          },
          "metadata": {
            "tags": []
          },
          "execution_count": 10
        }
      ]
    },
    {
      "cell_type": "code",
      "metadata": {
        "id": "p5o7Dqj_UcRF",
        "colab_type": "code",
        "outputId": "679c4aed-9492-48f0-e7a5-236def354ec2",
        "colab": {
          "base_uri": "https://localhost:8080/",
          "height": 34
        }
      },
      "source": [
        "listarray.shape"
      ],
      "execution_count": 11,
      "outputs": [
        {
          "output_type": "execute_result",
          "data": {
            "text/plain": [
              "(3, 3)"
            ]
          },
          "metadata": {
            "tags": []
          },
          "execution_count": 11
        }
      ]
    },
    {
      "cell_type": "code",
      "metadata": {
        "id": "QI_J03z0UfyM",
        "colab_type": "code",
        "outputId": "6b4601c3-9f93-4c3b-8fd4-8c8815d40e78",
        "colab": {
          "base_uri": "https://localhost:8080/",
          "height": 34
        }
      },
      "source": [
        "listarray.size"
      ],
      "execution_count": 12,
      "outputs": [
        {
          "output_type": "execute_result",
          "data": {
            "text/plain": [
              "9"
            ]
          },
          "metadata": {
            "tags": []
          },
          "execution_count": 12
        }
      ]
    },
    {
      "cell_type": "code",
      "metadata": {
        "id": "FQWkot_JUm-r",
        "colab_type": "code",
        "outputId": "6cf558ea-a975-4d9a-99ff-90cd85a868d2",
        "colab": {
          "base_uri": "https://localhost:8080/",
          "height": 34
        }
      },
      "source": [
        "np.array({34,23,43})"
      ],
      "execution_count": 13,
      "outputs": [
        {
          "output_type": "execute_result",
          "data": {
            "text/plain": [
              "array({34, 43, 23}, dtype=object)"
            ]
          },
          "metadata": {
            "tags": []
          },
          "execution_count": 13
        }
      ]
    },
    {
      "cell_type": "markdown",
      "metadata": {
        "id": "P0LUCE1tU7ia",
        "colab_type": "text"
      },
      "source": [
        "**Intrinsic numpy array creation(eg. arange,ones,zeros,etc)**"
      ]
    },
    {
      "cell_type": "markdown",
      "metadata": {
        "id": "scK6GlZSVeFj",
        "colab_type": "text"
      },
      "source": [
        "\"zeros\" will make an array of (2,5) where each element value is 0"
      ]
    },
    {
      "cell_type": "code",
      "metadata": {
        "id": "taK9VNbuVMYT",
        "colab_type": "code",
        "colab": {}
      },
      "source": [
        "zeros=np.zeros((2,5))"
      ],
      "execution_count": 0,
      "outputs": []
    },
    {
      "cell_type": "code",
      "metadata": {
        "id": "w9RwD_qpVVKP",
        "colab_type": "code",
        "outputId": "e28a5da8-bc4f-471b-8e17-0e32a40222ea",
        "colab": {
          "base_uri": "https://localhost:8080/",
          "height": 51
        }
      },
      "source": [
        "zeros"
      ],
      "execution_count": 15,
      "outputs": [
        {
          "output_type": "execute_result",
          "data": {
            "text/plain": [
              "array([[0., 0., 0., 0., 0.],\n",
              "       [0., 0., 0., 0., 0.]])"
            ]
          },
          "metadata": {
            "tags": []
          },
          "execution_count": 15
        }
      ]
    },
    {
      "cell_type": "code",
      "metadata": {
        "id": "s3AfBSSJV6yj",
        "colab_type": "code",
        "outputId": "434ff711-ad03-48ad-929b-4a3eee38087c",
        "colab": {
          "base_uri": "https://localhost:8080/",
          "height": 34
        }
      },
      "source": [
        "zeros.size"
      ],
      "execution_count": 16,
      "outputs": [
        {
          "output_type": "execute_result",
          "data": {
            "text/plain": [
              "10"
            ]
          },
          "metadata": {
            "tags": []
          },
          "execution_count": 16
        }
      ]
    },
    {
      "cell_type": "markdown",
      "metadata": {
        "id": "FQOVKx2pV2ET",
        "colab_type": "text"
      },
      "source": [
        "\"arange\" function will make a numpy array from range 0 to (n-1)"
      ]
    },
    {
      "cell_type": "code",
      "metadata": {
        "id": "b1L44UzIV4zz",
        "colab_type": "code",
        "colab": {}
      },
      "source": [
        "rng=np.arange(12)"
      ],
      "execution_count": 0,
      "outputs": []
    },
    {
      "cell_type": "code",
      "metadata": {
        "id": "5PhWQc-nWE47",
        "colab_type": "code",
        "outputId": "b8d3ea57-a31b-4535-eaad-669830937a5f",
        "colab": {
          "base_uri": "https://localhost:8080/",
          "height": 34
        }
      },
      "source": [
        "rng"
      ],
      "execution_count": 18,
      "outputs": [
        {
          "output_type": "execute_result",
          "data": {
            "text/plain": [
              "array([ 0,  1,  2,  3,  4,  5,  6,  7,  8,  9, 10, 11])"
            ]
          },
          "metadata": {
            "tags": []
          },
          "execution_count": 18
        }
      ]
    },
    {
      "cell_type": "code",
      "metadata": {
        "id": "qyn1mE6iWRoA",
        "colab_type": "code",
        "outputId": "c93e9789-ead5-4d22-ed09-d8d0d09dfde9",
        "colab": {
          "base_uri": "https://localhost:8080/",
          "height": 34
        }
      },
      "source": [
        "rng.shape"
      ],
      "execution_count": 19,
      "outputs": [
        {
          "output_type": "execute_result",
          "data": {
            "text/plain": [
              "(12,)"
            ]
          },
          "metadata": {
            "tags": []
          },
          "execution_count": 19
        }
      ]
    },
    {
      "cell_type": "markdown",
      "metadata": {
        "id": "pFKdflXsWgFQ",
        "colab_type": "text"
      },
      "source": [
        "\"linspace\" will do equal spacing, in beloww example it will give equal spacing b/w 1 to 50 and 10 is how many numbers we want"
      ]
    },
    {
      "cell_type": "code",
      "metadata": {
        "id": "tQscry1PWUnb",
        "colab_type": "code",
        "colab": {}
      },
      "source": [
        "linspace = np.linspace(1,50,10)"
      ],
      "execution_count": 0,
      "outputs": []
    },
    {
      "cell_type": "code",
      "metadata": {
        "id": "mZsU0IUFWd-U",
        "colab_type": "code",
        "outputId": "5d3f860e-db24-4130-bc56-1b4f707c7119",
        "colab": {
          "base_uri": "https://localhost:8080/",
          "height": 51
        }
      },
      "source": [
        "linspace"
      ],
      "execution_count": 21,
      "outputs": [
        {
          "output_type": "execute_result",
          "data": {
            "text/plain": [
              "array([ 1.        ,  6.44444444, 11.88888889, 17.33333333, 22.77777778,\n",
              "       28.22222222, 33.66666667, 39.11111111, 44.55555556, 50.        ])"
            ]
          },
          "metadata": {
            "tags": []
          },
          "execution_count": 21
        }
      ]
    },
    {
      "cell_type": "markdown",
      "metadata": {
        "id": "z_JZiO9NXLlt",
        "colab_type": "text"
      },
      "source": [
        "\"empty\" will give an empty array which will give elements having random numbers"
      ]
    },
    {
      "cell_type": "code",
      "metadata": {
        "id": "45YlcGDMWevZ",
        "colab_type": "code",
        "colab": {}
      },
      "source": [
        "emp=np.empty((4,6))"
      ],
      "execution_count": 0,
      "outputs": []
    },
    {
      "cell_type": "code",
      "metadata": {
        "id": "B4J0WqSTXJNm",
        "colab_type": "code",
        "outputId": "7d0f7d93-18f0-43a6-c6ee-1de2b25facd9",
        "colab": {
          "base_uri": "https://localhost:8080/",
          "height": 153
        }
      },
      "source": [
        "emp"
      ],
      "execution_count": 23,
      "outputs": [
        {
          "output_type": "execute_result",
          "data": {
            "text/plain": [
              "array([[1.69483014e-316, 1.79952226e-316, 1.95687861e-316,\n",
              "        0.00000000e+000, 1.79953649e-316, 1.79947957e-316],\n",
              "       [1.79950091e-316, 0.00000000e+000, 0.00000000e+000,\n",
              "        1.79949380e-316, 2.70803942e-316, 1.95683829e-316],\n",
              "       [1.95687149e-316, 0.00000000e+000, 1.95689995e-316,\n",
              "        1.95685252e-316, 1.79950803e-316, 0.00000000e+000],\n",
              "       [1.79951514e-316, 0.00000000e+000, 1.95686675e-316,\n",
              "        1.95688572e-316, 0.00000000e+000, 0.00000000e+000]])"
            ]
          },
          "metadata": {
            "tags": []
          },
          "execution_count": 23
        }
      ]
    },
    {
      "cell_type": "markdown",
      "metadata": {
        "id": "sELoQjFGXoXi",
        "colab_type": "text"
      },
      "source": [
        "\"empty_like(arr)\" will make an array which will be same like \"arr\" "
      ]
    },
    {
      "cell_type": "code",
      "metadata": {
        "id": "VjjgORnrXpkC",
        "colab_type": "code",
        "colab": {}
      },
      "source": [
        "emp_like=np.empty_like(linspace)"
      ],
      "execution_count": 0,
      "outputs": []
    },
    {
      "cell_type": "code",
      "metadata": {
        "id": "wuX-0UQvX004",
        "colab_type": "code",
        "outputId": "4374ccaa-5da2-42c8-df6a-9000eed94365",
        "colab": {
          "base_uri": "https://localhost:8080/",
          "height": 51
        }
      },
      "source": [
        "emp_like"
      ],
      "execution_count": 25,
      "outputs": [
        {
          "output_type": "execute_result",
          "data": {
            "text/plain": [
              "array([ 1.        ,  6.44444444, 11.88888889, 17.33333333, 22.77777778,\n",
              "       28.22222222, 33.66666667, 39.11111111, 44.55555556, 50.        ])"
            ]
          },
          "metadata": {
            "tags": []
          },
          "execution_count": 25
        }
      ]
    },
    {
      "cell_type": "markdown",
      "metadata": {
        "id": "kqS4Vz-3YUcX",
        "colab_type": "text"
      },
      "source": [
        "\"identity(n)\" will make n*n array"
      ]
    },
    {
      "cell_type": "code",
      "metadata": {
        "id": "LAiyA8XVYM9f",
        "colab_type": "code",
        "colab": {}
      },
      "source": [
        "id=np.identity(45)"
      ],
      "execution_count": 0,
      "outputs": []
    },
    {
      "cell_type": "code",
      "metadata": {
        "id": "Q5Ni6Jh_YR9p",
        "colab_type": "code",
        "outputId": "c3afa25c-4d6a-41e9-d55d-eadf9a3b89a1",
        "colab": {
          "base_uri": "https://localhost:8080/",
          "height": 136
        }
      },
      "source": [
        "id"
      ],
      "execution_count": 27,
      "outputs": [
        {
          "output_type": "execute_result",
          "data": {
            "text/plain": [
              "array([[1., 0., 0., ..., 0., 0., 0.],\n",
              "       [0., 1., 0., ..., 0., 0., 0.],\n",
              "       [0., 0., 1., ..., 0., 0., 0.],\n",
              "       ...,\n",
              "       [0., 0., 0., ..., 1., 0., 0.],\n",
              "       [0., 0., 0., ..., 0., 1., 0.],\n",
              "       [0., 0., 0., ..., 0., 0., 1.]])"
            ]
          },
          "metadata": {
            "tags": []
          },
          "execution_count": 27
        }
      ]
    },
    {
      "cell_type": "code",
      "metadata": {
        "id": "lBKoXeA7Yfez",
        "colab_type": "code",
        "colab": {}
      },
      "source": [
        "arr =np.arange(99)"
      ],
      "execution_count": 0,
      "outputs": []
    },
    {
      "cell_type": "code",
      "metadata": {
        "id": "AC6NIr5lYmKK",
        "colab_type": "code",
        "outputId": "220f34f0-08c7-4ae9-866a-3f67d2555477",
        "colab": {
          "base_uri": "https://localhost:8080/",
          "height": 119
        }
      },
      "source": [
        "arr"
      ],
      "execution_count": 29,
      "outputs": [
        {
          "output_type": "execute_result",
          "data": {
            "text/plain": [
              "array([ 0,  1,  2,  3,  4,  5,  6,  7,  8,  9, 10, 11, 12, 13, 14, 15, 16,\n",
              "       17, 18, 19, 20, 21, 22, 23, 24, 25, 26, 27, 28, 29, 30, 31, 32, 33,\n",
              "       34, 35, 36, 37, 38, 39, 40, 41, 42, 43, 44, 45, 46, 47, 48, 49, 50,\n",
              "       51, 52, 53, 54, 55, 56, 57, 58, 59, 60, 61, 62, 63, 64, 65, 66, 67,\n",
              "       68, 69, 70, 71, 72, 73, 74, 75, 76, 77, 78, 79, 80, 81, 82, 83, 84,\n",
              "       85, 86, 87, 88, 89, 90, 91, 92, 93, 94, 95, 96, 97, 98])"
            ]
          },
          "metadata": {
            "tags": []
          },
          "execution_count": 29
        }
      ]
    },
    {
      "cell_type": "markdown",
      "metadata": {
        "id": "xAYuHn_ZYqta",
        "colab_type": "text"
      },
      "source": [
        "important"
      ]
    },
    {
      "cell_type": "markdown",
      "metadata": {
        "id": "JPgwskSeYzw6",
        "colab_type": "text"
      },
      "source": [
        "reshape will reshape the given array."
      ]
    },
    {
      "cell_type": "code",
      "metadata": {
        "id": "rqdOWCm2YoQ9",
        "colab_type": "code",
        "colab": {}
      },
      "source": [
        "arr=arr.reshape(3, 33)"
      ],
      "execution_count": 0,
      "outputs": []
    },
    {
      "cell_type": "code",
      "metadata": {
        "id": "smejcUCHZBjM",
        "colab_type": "code",
        "outputId": "3106475b-c161-4b8c-8906-56337125913b",
        "colab": {
          "base_uri": "https://localhost:8080/",
          "height": 170
        }
      },
      "source": [
        "arr"
      ],
      "execution_count": 31,
      "outputs": [
        {
          "output_type": "execute_result",
          "data": {
            "text/plain": [
              "array([[ 0,  1,  2,  3,  4,  5,  6,  7,  8,  9, 10, 11, 12, 13, 14, 15,\n",
              "        16, 17, 18, 19, 20, 21, 22, 23, 24, 25, 26, 27, 28, 29, 30, 31,\n",
              "        32],\n",
              "       [33, 34, 35, 36, 37, 38, 39, 40, 41, 42, 43, 44, 45, 46, 47, 48,\n",
              "        49, 50, 51, 52, 53, 54, 55, 56, 57, 58, 59, 60, 61, 62, 63, 64,\n",
              "        65],\n",
              "       [66, 67, 68, 69, 70, 71, 72, 73, 74, 75, 76, 77, 78, 79, 80, 81,\n",
              "        82, 83, 84, 85, 86, 87, 88, 89, 90, 91, 92, 93, 94, 95, 96, 97,\n",
              "        98]])"
            ]
          },
          "metadata": {
            "tags": []
          },
          "execution_count": 31
        }
      ]
    },
    {
      "cell_type": "markdown",
      "metadata": {
        "id": "Uge9X5q0ZaK2",
        "colab_type": "text"
      },
      "source": [
        "ravel will bring back the reshaped array to its original state"
      ]
    },
    {
      "cell_type": "code",
      "metadata": {
        "id": "S4YUwS2TZZMa",
        "colab_type": "code",
        "colab": {}
      },
      "source": [
        "arr=arr.ravel()"
      ],
      "execution_count": 0,
      "outputs": []
    },
    {
      "cell_type": "code",
      "metadata": {
        "id": "Y6nxc_PUZobU",
        "colab_type": "code",
        "outputId": "5587e57d-be5c-47fd-d6c4-9dd253bead20",
        "colab": {
          "base_uri": "https://localhost:8080/",
          "height": 34
        }
      },
      "source": [
        "arr.shape"
      ],
      "execution_count": 33,
      "outputs": [
        {
          "output_type": "execute_result",
          "data": {
            "text/plain": [
              "(99,)"
            ]
          },
          "metadata": {
            "tags": []
          },
          "execution_count": 33
        }
      ]
    },
    {
      "cell_type": "markdown",
      "metadata": {
        "id": "apogiUmVau-k",
        "colab_type": "text"
      },
      "source": [
        "**NumPy Axis tutorial**"
      ]
    },
    {
      "cell_type": "code",
      "metadata": {
        "id": "0wtESz7laumr",
        "colab_type": "code",
        "colab": {}
      },
      "source": [
        "x = [[1,2,3],[4,5,6],[7,1,0]]"
      ],
      "execution_count": 0,
      "outputs": []
    },
    {
      "cell_type": "code",
      "metadata": {
        "id": "5Xq7w_RvbGZT",
        "colab_type": "code",
        "colab": {}
      },
      "source": [
        "ar=np.array(x)"
      ],
      "execution_count": 0,
      "outputs": []
    },
    {
      "cell_type": "code",
      "metadata": {
        "id": "X0o4on1obSp7",
        "colab_type": "code",
        "outputId": "e9d55e41-affe-457e-bb33-44c67f798d88",
        "colab": {
          "base_uri": "https://localhost:8080/",
          "height": 68
        }
      },
      "source": [
        "ar"
      ],
      "execution_count": 36,
      "outputs": [
        {
          "output_type": "execute_result",
          "data": {
            "text/plain": [
              "array([[1, 2, 3],\n",
              "       [4, 5, 6],\n",
              "       [7, 1, 0]])"
            ]
          },
          "metadata": {
            "tags": []
          },
          "execution_count": 36
        }
      ]
    },
    {
      "cell_type": "markdown",
      "metadata": {
        "id": "2rpg_6UAbvf3",
        "colab_type": "text"
      },
      "source": [
        "sum of (1+4+7)=12 & (2+5+1)=8 & (3+6+0)=9,\n",
        "here axis=0(go right in array)"
      ]
    },
    {
      "cell_type": "code",
      "metadata": {
        "id": "TvCzSnQvbcQR",
        "colab_type": "code",
        "outputId": "345ba6db-9338-4c1d-f03b-4ee6d02bad91",
        "colab": {
          "base_uri": "https://localhost:8080/",
          "height": 34
        }
      },
      "source": [
        "ar.sum(axis=0)"
      ],
      "execution_count": 37,
      "outputs": [
        {
          "output_type": "execute_result",
          "data": {
            "text/plain": [
              "array([12,  8,  9])"
            ]
          },
          "metadata": {
            "tags": []
          },
          "execution_count": 37
        }
      ]
    },
    {
      "cell_type": "markdown",
      "metadata": {
        "id": "EIkB7gaGcWJ3",
        "colab_type": "text"
      },
      "source": [
        "sum of (1+2+3)=6 & (4+5+6)=15 & (7+1+0)=8, here axis=1(go down is array)"
      ]
    },
    {
      "cell_type": "code",
      "metadata": {
        "id": "oi6Y-QOlbmzc",
        "colab_type": "code",
        "outputId": "7025deaf-100e-4ddd-d206-91762f50517f",
        "colab": {
          "base_uri": "https://localhost:8080/",
          "height": 34
        }
      },
      "source": [
        "ar.sum(axis=1)"
      ],
      "execution_count": 38,
      "outputs": [
        {
          "output_type": "execute_result",
          "data": {
            "text/plain": [
              "array([ 6, 15,  8])"
            ]
          },
          "metadata": {
            "tags": []
          },
          "execution_count": 38
        }
      ]
    },
    {
      "cell_type": "markdown",
      "metadata": {
        "id": "0-w0HfyppH5z",
        "colab_type": "text"
      },
      "source": [
        "Transpose an array"
      ]
    },
    {
      "cell_type": "code",
      "metadata": {
        "id": "t58vukia8wGU",
        "colab_type": "code",
        "colab": {
          "base_uri": "https://localhost:8080/",
          "height": 68
        },
        "outputId": "173e1ee0-eb65-4a43-f609-858d0211b323"
      },
      "source": [
        "ar.T"
      ],
      "execution_count": 39,
      "outputs": [
        {
          "output_type": "execute_result",
          "data": {
            "text/plain": [
              "array([[1, 4, 7],\n",
              "       [2, 5, 1],\n",
              "       [3, 6, 0]])"
            ]
          },
          "metadata": {
            "tags": []
          },
          "execution_count": 39
        }
      ]
    },
    {
      "cell_type": "code",
      "metadata": {
        "id": "BLYoB21SpM2g",
        "colab_type": "code",
        "colab": {
          "base_uri": "https://localhost:8080/",
          "height": 34
        },
        "outputId": "e5b71e16-f825-4a99-e076-b289aa90459a"
      },
      "source": [
        "ar.flat"
      ],
      "execution_count": 40,
      "outputs": [
        {
          "output_type": "execute_result",
          "data": {
            "text/plain": [
              "<numpy.flatiter at 0x3c2cc00>"
            ]
          },
          "metadata": {
            "tags": []
          },
          "execution_count": 40
        }
      ]
    },
    {
      "cell_type": "markdown",
      "metadata": {
        "id": "QupQ9mfBphp0",
        "colab_type": "text"
      },
      "source": [
        "gives every item in array"
      ]
    },
    {
      "cell_type": "code",
      "metadata": {
        "id": "GPAcQmlepQ6y",
        "colab_type": "code",
        "colab": {
          "base_uri": "https://localhost:8080/",
          "height": 170
        },
        "outputId": "da4c76df-35de-4adf-88bc-b9d906a8ae20"
      },
      "source": [
        "for item in ar.flat:\n",
        "     print(item)"
      ],
      "execution_count": 41,
      "outputs": [
        {
          "output_type": "stream",
          "text": [
            "1\n",
            "2\n",
            "3\n",
            "4\n",
            "5\n",
            "6\n",
            "7\n",
            "1\n",
            "0\n"
          ],
          "name": "stdout"
        }
      ]
    },
    {
      "cell_type": "markdown",
      "metadata": {
        "id": "v66wMZSLpolO",
        "colab_type": "text"
      },
      "source": [
        "number of dimensions of ar."
      ]
    },
    {
      "cell_type": "code",
      "metadata": {
        "id": "QvbDEUAipk_7",
        "colab_type": "code",
        "colab": {
          "base_uri": "https://localhost:8080/",
          "height": 34
        },
        "outputId": "0e8130b2-feb2-4a29-e669-77348adbe182"
      },
      "source": [
        "ar.ndim"
      ],
      "execution_count": 42,
      "outputs": [
        {
          "output_type": "execute_result",
          "data": {
            "text/plain": [
              "2"
            ]
          },
          "metadata": {
            "tags": []
          },
          "execution_count": 42
        }
      ]
    },
    {
      "cell_type": "code",
      "metadata": {
        "id": "iwtzkOFFptVW",
        "colab_type": "code",
        "colab": {
          "base_uri": "https://localhost:8080/",
          "height": 34
        },
        "outputId": "f64951e8-4c7e-4163-ad0e-357a7595d792"
      },
      "source": [
        "ar.size"
      ],
      "execution_count": 43,
      "outputs": [
        {
          "output_type": "execute_result",
          "data": {
            "text/plain": [
              "9"
            ]
          },
          "metadata": {
            "tags": []
          },
          "execution_count": 43
        }
      ]
    },
    {
      "cell_type": "markdown",
      "metadata": {
        "id": "8AyK_QOEpv7_",
        "colab_type": "text"
      },
      "source": [
        "ar.nbytes will give total bytes consumed by all elements in array \"ar\""
      ]
    },
    {
      "cell_type": "code",
      "metadata": {
        "id": "a9K43M0jpygL",
        "colab_type": "code",
        "colab": {
          "base_uri": "https://localhost:8080/",
          "height": 34
        },
        "outputId": "493e375e-9848-4b31-8ca7-f418566d3147"
      },
      "source": [
        "ar.nbytes"
      ],
      "execution_count": 44,
      "outputs": [
        {
          "output_type": "execute_result",
          "data": {
            "text/plain": [
              "72"
            ]
          },
          "metadata": {
            "tags": []
          },
          "execution_count": 44
        }
      ]
    },
    {
      "cell_type": "code",
      "metadata": {
        "id": "vXbDepiMqA2y",
        "colab_type": "code",
        "colab": {}
      },
      "source": [
        "one = np.array([1,3,4,634,2])"
      ],
      "execution_count": 0,
      "outputs": []
    },
    {
      "cell_type": "markdown",
      "metadata": {
        "id": "0USxBmZoqLOh",
        "colab_type": "text"
      },
      "source": [
        "argmax() is a function gives the index of maximum element."
      ]
    },
    {
      "cell_type": "code",
      "metadata": {
        "id": "k5IUrC6rqG42",
        "colab_type": "code",
        "colab": {
          "base_uri": "https://localhost:8080/",
          "height": 34
        },
        "outputId": "3fef1b1e-7b62-40e2-a770-c014298cf36c"
      },
      "source": [
        "one.argmax()"
      ],
      "execution_count": 46,
      "outputs": [
        {
          "output_type": "execute_result",
          "data": {
            "text/plain": [
              "3"
            ]
          },
          "metadata": {
            "tags": []
          },
          "execution_count": 46
        }
      ]
    },
    {
      "cell_type": "code",
      "metadata": {
        "id": "TwxdCrTZqb27",
        "colab_type": "code",
        "colab": {
          "base_uri": "https://localhost:8080/",
          "height": 34
        },
        "outputId": "8bb02dfc-435e-4f25-a0dc-9dd7814ffbbf"
      },
      "source": [
        "one.argmin()"
      ],
      "execution_count": 47,
      "outputs": [
        {
          "output_type": "execute_result",
          "data": {
            "text/plain": [
              "0"
            ]
          },
          "metadata": {
            "tags": []
          },
          "execution_count": 47
        }
      ]
    },
    {
      "cell_type": "markdown",
      "metadata": {
        "id": "_EQSOhexqu2L",
        "colab_type": "text"
      },
      "source": [
        "argsort gives an array of index which shows that how the elements in array \"one\" should be placed so that it will be in ascending order."
      ]
    },
    {
      "cell_type": "code",
      "metadata": {
        "id": "qcHuD1mWqe-3",
        "colab_type": "code",
        "colab": {
          "base_uri": "https://localhost:8080/",
          "height": 34
        },
        "outputId": "96173a1b-f739-48e9-aef3-b1ea18b0a477"
      },
      "source": [
        "one.argsort()"
      ],
      "execution_count": 48,
      "outputs": [
        {
          "output_type": "execute_result",
          "data": {
            "text/plain": [
              "array([0, 4, 1, 2, 3])"
            ]
          },
          "metadata": {
            "tags": []
          },
          "execution_count": 48
        }
      ]
    },
    {
      "cell_type": "markdown",
      "metadata": {
        "id": "gILWWmDErQIq",
        "colab_type": "text"
      },
      "source": [
        "first it will rearrange the array \"ar\" in 1d array then it will give the max value index"
      ]
    },
    {
      "cell_type": "code",
      "metadata": {
        "id": "d_PxJISurynS",
        "colab_type": "code",
        "colab": {
          "base_uri": "https://localhost:8080/",
          "height": 68
        },
        "outputId": "c1d0f546-4be4-43ee-a671-ac0b42e271df"
      },
      "source": [
        "ar"
      ],
      "execution_count": 49,
      "outputs": [
        {
          "output_type": "execute_result",
          "data": {
            "text/plain": [
              "array([[1, 2, 3],\n",
              "       [4, 5, 6],\n",
              "       [7, 1, 0]])"
            ]
          },
          "metadata": {
            "tags": []
          },
          "execution_count": 49
        }
      ]
    },
    {
      "cell_type": "code",
      "metadata": {
        "id": "0pIBgpN3rEj0",
        "colab_type": "code",
        "colab": {
          "base_uri": "https://localhost:8080/",
          "height": 34
        },
        "outputId": "dac857bf-7a9c-430b-bee8-dda230ebbf33"
      },
      "source": [
        "ar.argmin()"
      ],
      "execution_count": 50,
      "outputs": [
        {
          "output_type": "execute_result",
          "data": {
            "text/plain": [
              "8"
            ]
          },
          "metadata": {
            "tags": []
          },
          "execution_count": 50
        }
      ]
    },
    {
      "cell_type": "code",
      "metadata": {
        "id": "Y_wmqMtCrNFR",
        "colab_type": "code",
        "colab": {
          "base_uri": "https://localhost:8080/",
          "height": 34
        },
        "outputId": "dd8c95c1-48ae-42a2-b1fa-fbb7a1ad7c67"
      },
      "source": [
        "ar.argmax()"
      ],
      "execution_count": 51,
      "outputs": [
        {
          "output_type": "execute_result",
          "data": {
            "text/plain": [
              "6"
            ]
          },
          "metadata": {
            "tags": []
          },
          "execution_count": 51
        }
      ]
    },
    {
      "cell_type": "code",
      "metadata": {
        "id": "Tc0rGuINrmku",
        "colab_type": "code",
        "colab": {
          "base_uri": "https://localhost:8080/",
          "height": 34
        },
        "outputId": "b2503edd-58df-4594-d62c-b99fb09a60af"
      },
      "source": [
        "ar.argmax(axis=0)"
      ],
      "execution_count": 52,
      "outputs": [
        {
          "output_type": "execute_result",
          "data": {
            "text/plain": [
              "array([2, 1, 1])"
            ]
          },
          "metadata": {
            "tags": []
          },
          "execution_count": 52
        }
      ]
    },
    {
      "cell_type": "code",
      "metadata": {
        "id": "0WvXCoZgr3BS",
        "colab_type": "code",
        "colab": {
          "base_uri": "https://localhost:8080/",
          "height": 34
        },
        "outputId": "f07909ed-60ee-49cf-9e4b-7bd5de5126ff"
      },
      "source": [
        "ar.argmax(axis=1)"
      ],
      "execution_count": 53,
      "outputs": [
        {
          "output_type": "execute_result",
          "data": {
            "text/plain": [
              "array([2, 2, 0])"
            ]
          },
          "metadata": {
            "tags": []
          },
          "execution_count": 53
        }
      ]
    },
    {
      "cell_type": "code",
      "metadata": {
        "id": "D20hfrcNr8za",
        "colab_type": "code",
        "colab": {
          "base_uri": "https://localhost:8080/",
          "height": 68
        },
        "outputId": "49f52bd4-5b61-415e-d273-1760671d459a"
      },
      "source": [
        "ar.argsort(axis=1)"
      ],
      "execution_count": 54,
      "outputs": [
        {
          "output_type": "execute_result",
          "data": {
            "text/plain": [
              "array([[0, 1, 2],\n",
              "       [0, 1, 2],\n",
              "       [2, 1, 0]])"
            ]
          },
          "metadata": {
            "tags": []
          },
          "execution_count": 54
        }
      ]
    },
    {
      "cell_type": "code",
      "metadata": {
        "id": "gqHCz-ossUeM",
        "colab_type": "code",
        "colab": {
          "base_uri": "https://localhost:8080/",
          "height": 34
        },
        "outputId": "bc9c7680-fa68-4c62-ff58-09b61f7c455e"
      },
      "source": [
        "ar.ravel()"
      ],
      "execution_count": 55,
      "outputs": [
        {
          "output_type": "execute_result",
          "data": {
            "text/plain": [
              "array([1, 2, 3, 4, 5, 6, 7, 1, 0])"
            ]
          },
          "metadata": {
            "tags": []
          },
          "execution_count": 55
        }
      ]
    },
    {
      "cell_type": "code",
      "metadata": {
        "id": "sZ5WnnlDsYRM",
        "colab_type": "code",
        "colab": {
          "base_uri": "https://localhost:8080/",
          "height": 68
        },
        "outputId": "3c543552-6800-40e5-8e93-7b4a026223bf"
      },
      "source": [
        "ar"
      ],
      "execution_count": 56,
      "outputs": [
        {
          "output_type": "execute_result",
          "data": {
            "text/plain": [
              "array([[1, 2, 3],\n",
              "       [4, 5, 6],\n",
              "       [7, 1, 0]])"
            ]
          },
          "metadata": {
            "tags": []
          },
          "execution_count": 56
        }
      ]
    },
    {
      "cell_type": "code",
      "metadata": {
        "id": "CF5CnVJLse3G",
        "colab_type": "code",
        "colab": {}
      },
      "source": [
        "ar2=np.array([[1, 2, 3],\n",
        "              [4, 5, 6],\n",
        "              [7, 1, 0]])"
      ],
      "execution_count": 0,
      "outputs": []
    },
    {
      "cell_type": "markdown",
      "metadata": {
        "id": "BWZQ28ZFsu0-",
        "colab_type": "text"
      },
      "source": [
        "**MATRIX OPERATION**"
      ]
    },
    {
      "cell_type": "markdown",
      "metadata": {
        "id": "MA-Rdenks382",
        "colab_type": "text"
      },
      "source": [
        "sum"
      ]
    },
    {
      "cell_type": "code",
      "metadata": {
        "id": "HdQkCqS4spjb",
        "colab_type": "code",
        "colab": {
          "base_uri": "https://localhost:8080/",
          "height": 68
        },
        "outputId": "b58aa554-dab4-4b50-ad72-b7a2ee90e883"
      },
      "source": [
        "ar+ar2"
      ],
      "execution_count": 58,
      "outputs": [
        {
          "output_type": "execute_result",
          "data": {
            "text/plain": [
              "array([[ 2,  4,  6],\n",
              "       [ 8, 10, 12],\n",
              "       [14,  2,  0]])"
            ]
          },
          "metadata": {
            "tags": []
          },
          "execution_count": 58
        }
      ]
    },
    {
      "cell_type": "markdown",
      "metadata": {
        "id": "5Dzm1-PSs5Mv",
        "colab_type": "text"
      },
      "source": [
        "multiply"
      ]
    },
    {
      "cell_type": "code",
      "metadata": {
        "id": "m3OhT0rQs7Ok",
        "colab_type": "code",
        "colab": {
          "base_uri": "https://localhost:8080/",
          "height": 68
        },
        "outputId": "7dda5960-3069-4d3f-91d6-4e080ef588f7"
      },
      "source": [
        "ar*ar2"
      ],
      "execution_count": 59,
      "outputs": [
        {
          "output_type": "execute_result",
          "data": {
            "text/plain": [
              "array([[ 1,  4,  9],\n",
              "       [16, 25, 36],\n",
              "       [49,  1,  0]])"
            ]
          },
          "metadata": {
            "tags": []
          },
          "execution_count": 59
        }
      ]
    },
    {
      "cell_type": "markdown",
      "metadata": {
        "id": "i3w19JcCtHIq",
        "colab_type": "text"
      },
      "source": [
        "square root"
      ]
    },
    {
      "cell_type": "code",
      "metadata": {
        "id": "u3QnXg65tIn6",
        "colab_type": "code",
        "colab": {
          "base_uri": "https://localhost:8080/",
          "height": 68
        },
        "outputId": "647f96f9-3862-4534-f62d-82f477cfc175"
      },
      "source": [
        "np.sqrt(ar)"
      ],
      "execution_count": 60,
      "outputs": [
        {
          "output_type": "execute_result",
          "data": {
            "text/plain": [
              "array([[1.        , 1.41421356, 1.73205081],\n",
              "       [2.        , 2.23606798, 2.44948974],\n",
              "       [2.64575131, 1.        , 0.        ]])"
            ]
          },
          "metadata": {
            "tags": []
          },
          "execution_count": 60
        }
      ]
    },
    {
      "cell_type": "markdown",
      "metadata": {
        "id": "9qr7CAXftRFj",
        "colab_type": "text"
      },
      "source": [
        "sum of all elements"
      ]
    },
    {
      "cell_type": "code",
      "metadata": {
        "id": "bXbSi5e6tN2j",
        "colab_type": "code",
        "colab": {
          "base_uri": "https://localhost:8080/",
          "height": 34
        },
        "outputId": "60802798-250d-4547-aa40-39a3b1fe4cc9"
      },
      "source": [
        "ar.sum()"
      ],
      "execution_count": 61,
      "outputs": [
        {
          "output_type": "execute_result",
          "data": {
            "text/plain": [
              "29"
            ]
          },
          "metadata": {
            "tags": []
          },
          "execution_count": 61
        }
      ]
    },
    {
      "cell_type": "code",
      "metadata": {
        "id": "3USqaEaptTzo",
        "colab_type": "code",
        "colab": {
          "base_uri": "https://localhost:8080/",
          "height": 34
        },
        "outputId": "6c7f4c25-25fd-4add-d746-7a872ec26591"
      },
      "source": [
        "ar.min()"
      ],
      "execution_count": 62,
      "outputs": [
        {
          "output_type": "execute_result",
          "data": {
            "text/plain": [
              "0"
            ]
          },
          "metadata": {
            "tags": []
          },
          "execution_count": 62
        }
      ]
    },
    {
      "cell_type": "code",
      "metadata": {
        "id": "hSq-nVJqtXg_",
        "colab_type": "code",
        "colab": {
          "base_uri": "https://localhost:8080/",
          "height": 34
        },
        "outputId": "bf10d263-1ad2-4e07-8af7-bde96fd61d30"
      },
      "source": [
        "ar.sum(axis=0)"
      ],
      "execution_count": 63,
      "outputs": [
        {
          "output_type": "execute_result",
          "data": {
            "text/plain": [
              "array([12,  8,  9])"
            ]
          },
          "metadata": {
            "tags": []
          },
          "execution_count": 63
        }
      ]
    },
    {
      "cell_type": "markdown",
      "metadata": {
        "id": "BfU7ODb9tlzV",
        "colab_type": "text"
      },
      "source": [
        "gives tuple of the elements in \"ar\" which is greater than 5, NOTE that this gives index."
      ]
    },
    {
      "cell_type": "code",
      "metadata": {
        "id": "iWHpgQUstckH",
        "colab_type": "code",
        "colab": {
          "base_uri": "https://localhost:8080/",
          "height": 34
        },
        "outputId": "8977b239-a482-4cb6-b3f2-1212d8b68004"
      },
      "source": [
        "np.where(ar>5)"
      ],
      "execution_count": 64,
      "outputs": [
        {
          "output_type": "execute_result",
          "data": {
            "text/plain": [
              "(array([1, 2]), array([2, 0]))"
            ]
          },
          "metadata": {
            "tags": []
          },
          "execution_count": 64
        }
      ]
    },
    {
      "cell_type": "code",
      "metadata": {
        "id": "3OKmpHjbt2en",
        "colab_type": "code",
        "colab": {
          "base_uri": "https://localhost:8080/",
          "height": 34
        },
        "outputId": "35c22dce-69ff-4d8b-f7e2-d2333be41370"
      },
      "source": [
        "type(np.where(ar>5))"
      ],
      "execution_count": 65,
      "outputs": [
        {
          "output_type": "execute_result",
          "data": {
            "text/plain": [
              "tuple"
            ]
          },
          "metadata": {
            "tags": []
          },
          "execution_count": 65
        }
      ]
    },
    {
      "cell_type": "markdown",
      "metadata": {
        "id": "BUQUAIS6t-9h",
        "colab_type": "text"
      },
      "source": [
        "np.count_nonzero(ar) gives number of nonzero elements in \"ar\""
      ]
    },
    {
      "cell_type": "code",
      "metadata": {
        "id": "tvxERBi_t7I6",
        "colab_type": "code",
        "colab": {
          "base_uri": "https://localhost:8080/",
          "height": 34
        },
        "outputId": "584baf21-16c2-4ff3-98f4-6739fc1c11c6"
      },
      "source": [
        "np.count_nonzero(ar)"
      ],
      "execution_count": 66,
      "outputs": [
        {
          "output_type": "execute_result",
          "data": {
            "text/plain": [
              "8"
            ]
          },
          "metadata": {
            "tags": []
          },
          "execution_count": 66
        }
      ]
    },
    {
      "cell_type": "code",
      "metadata": {
        "id": "DlO78qVBlZfA",
        "colab_type": "code",
        "colab": {
          "base_uri": "https://localhost:8080/",
          "height": 68
        },
        "outputId": "36c79c09-1c34-4539-ab79-9835329da8e8"
      },
      "source": [
        "ar"
      ],
      "execution_count": 70,
      "outputs": [
        {
          "output_type": "execute_result",
          "data": {
            "text/plain": [
              "array([[1, 2, 3],\n",
              "       [4, 5, 0],\n",
              "       [7, 1, 0]])"
            ]
          },
          "metadata": {
            "tags": []
          },
          "execution_count": 70
        }
      ]
    },
    {
      "cell_type": "code",
      "metadata": {
        "id": "giKNswETuF9h",
        "colab_type": "code",
        "colab": {
          "base_uri": "https://localhost:8080/",
          "height": 34
        },
        "outputId": "ef23fb58-1015-41a2-c396-a02f721ae5a7"
      },
      "source": [
        "np.nonzero(ar)"
      ],
      "execution_count": 67,
      "outputs": [
        {
          "output_type": "execute_result",
          "data": {
            "text/plain": [
              "(array([0, 0, 0, 1, 1, 1, 2, 2]), array([0, 1, 2, 0, 1, 2, 0, 1]))"
            ]
          },
          "metadata": {
            "tags": []
          },
          "execution_count": 67
        }
      ]
    },
    {
      "cell_type": "markdown",
      "metadata": {
        "id": "GMDZyBTtueHn",
        "colab_type": "text"
      },
      "source": [
        "how numpy takes less space"
      ]
    },
    {
      "cell_type": "code",
      "metadata": {
        "id": "PnARQGtruhh2",
        "colab_type": "code",
        "colab": {}
      },
      "source": [
        "ar[1,2]=0"
      ],
      "execution_count": 0,
      "outputs": []
    },
    {
      "cell_type": "code",
      "metadata": {
        "id": "AYQqqlPglJj9",
        "colab_type": "code",
        "colab": {
          "base_uri": "https://localhost:8080/",
          "height": 34
        },
        "outputId": "a8851281-4e59-48c8-e6b8-d7c517193d0c"
      },
      "source": [
        "np.nonzero(ar)"
      ],
      "execution_count": 69,
      "outputs": [
        {
          "output_type": "execute_result",
          "data": {
            "text/plain": [
              "(array([0, 0, 0, 1, 1, 2, 2]), array([0, 1, 2, 0, 1, 0, 1]))"
            ]
          },
          "metadata": {
            "tags": []
          },
          "execution_count": 69
        }
      ]
    },
    {
      "cell_type": "markdown",
      "metadata": {
        "id": "sGEiCocAl2n7",
        "colab_type": "text"
      },
      "source": [
        "for system and parameter check in python we import sys"
      ]
    },
    {
      "cell_type": "code",
      "metadata": {
        "id": "_FLGdCQ8lvqP",
        "colab_type": "code",
        "colab": {}
      },
      "source": [
        "import sys"
      ],
      "execution_count": 0,
      "outputs": []
    },
    {
      "cell_type": "markdown",
      "metadata": {
        "id": "ujQmpiAzmY90",
        "colab_type": "text"
      },
      "source": [
        "now check how numpy array takes less size than normal python array"
      ]
    },
    {
      "cell_type": "markdown",
      "metadata": {
        "id": "uCcQq4ktmg5r",
        "colab_type": "text"
      },
      "source": [
        "this is normal python array"
      ]
    },
    {
      "cell_type": "code",
      "metadata": {
        "id": "dQ-eGJgTmADk",
        "colab_type": "code",
        "colab": {}
      },
      "source": [
        "py_ar=[0,4,55,2]"
      ],
      "execution_count": 0,
      "outputs": []
    },
    {
      "cell_type": "markdown",
      "metadata": {
        "id": "2FurYWtEmj_n",
        "colab_type": "text"
      },
      "source": [
        "this is  numpy array"
      ]
    },
    {
      "cell_type": "code",
      "metadata": {
        "id": "llrV3k5-mF_d",
        "colab_type": "code",
        "colab": {}
      },
      "source": [
        "np_ar=np.array(py_ar)"
      ],
      "execution_count": 0,
      "outputs": []
    },
    {
      "cell_type": "markdown",
      "metadata": {
        "id": "-F6UKhDymnDi",
        "colab_type": "text"
      },
      "source": [
        "now the size of python array"
      ]
    },
    {
      "cell_type": "code",
      "metadata": {
        "id": "tLI6_IPBmJoH",
        "colab_type": "code",
        "colab": {
          "base_uri": "https://localhost:8080/",
          "height": 34
        },
        "outputId": "c1282e18-58ce-407b-f524-ca808c841839"
      },
      "source": [
        "sys.getsizeof(1)*len(py_ar)"
      ],
      "execution_count": 75,
      "outputs": [
        {
          "output_type": "execute_result",
          "data": {
            "text/plain": [
              "112"
            ]
          },
          "metadata": {
            "tags": []
          },
          "execution_count": 75
        }
      ]
    },
    {
      "cell_type": "markdown",
      "metadata": {
        "id": "U2D8A3mAmrRn",
        "colab_type": "text"
      },
      "source": [
        "size of numpy array"
      ]
    },
    {
      "cell_type": "code",
      "metadata": {
        "id": "IELEgtvnmPFW",
        "colab_type": "code",
        "colab": {
          "base_uri": "https://localhost:8080/",
          "height": 34
        },
        "outputId": "9f78d25f-adac-4026-b676-f3699616e626"
      },
      "source": [
        "np_ar.itemsize*np_ar.size"
      ],
      "execution_count": 76,
      "outputs": [
        {
          "output_type": "execute_result",
          "data": {
            "text/plain": [
              "32"
            ]
          },
          "metadata": {
            "tags": []
          },
          "execution_count": 76
        }
      ]
    },
    {
      "cell_type": "code",
      "metadata": {
        "id": "qJrze5JhnG4s",
        "colab_type": "code",
        "colab": {
          "base_uri": "https://localhost:8080/",
          "height": 34
        },
        "outputId": "1eb4184a-9410-44d4-bc6a-86fea0761890"
      },
      "source": [
        "np_ar.tolist()"
      ],
      "execution_count": 77,
      "outputs": [
        {
          "output_type": "execute_result",
          "data": {
            "text/plain": [
              "[0, 4, 55, 2]"
            ]
          },
          "metadata": {
            "tags": []
          },
          "execution_count": 77
        }
      ]
    }
  ]
}